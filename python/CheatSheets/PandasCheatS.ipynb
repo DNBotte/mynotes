{
 "cells": [
  {
   "cell_type": "markdown",
   "id": "c5df3492",
   "metadata": {},
   "source": [
    "# W3 Machine learning Tutorial \n",
    "\n",
    "https://www.w3schools.com/python/python_ml_getting_started.asp\n",
    "\n",
    "### Not to be confused with the more extensive w3 Data Science Tutorial:\n",
    "https://www.w3schools.com/datascience/default.asp"
   ]
  },
  {
   "cell_type": "code",
   "execution_count": null,
   "id": "677b9b8c",
   "metadata": {},
   "outputs": [],
   "source": []
  }
 ],
 "metadata": {
  "kernelspec": {
   "display_name": "Python 3 (ipykernel)",
   "language": "python",
   "name": "python3"
  },
  "language_info": {
   "codemirror_mode": {
    "name": "ipython",
    "version": 3
   },
   "file_extension": ".py",
   "mimetype": "text/x-python",
   "name": "python",
   "nbconvert_exporter": "python",
   "pygments_lexer": "ipython3",
   "version": "3.9.13"
  }
 },
 "nbformat": 4,
 "nbformat_minor": 5
}
